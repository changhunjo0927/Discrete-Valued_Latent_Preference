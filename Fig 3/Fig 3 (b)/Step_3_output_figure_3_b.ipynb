{
 "cells": [
  {
   "cell_type": "code",
   "execution_count": null,
   "metadata": {},
   "outputs": [],
   "source": [
    "import scipy.io as io\n",
    "\n",
    "loaded_5 = io.loadmat('data_2_b_prev') # the result from the previous algorithm\n",
    "loaded_6 = io.loadmat('data_2_b_new') # the result from the new algorithm\n",
    "\n",
    "#print(loaded['obs'])\n",
    "#print(loaded['max'])\n",
    "#print(loaded['L1'])\n",
    "#print(loaded['obs_mean'])\n",
    "#print(loaded['max_mean'])\n",
    "#print(loaded['L1_mean'])\n",
    "\n",
    "import matplotlib.pylab as plt\n",
    "import matplotlib as mpl\n",
    "import pandas as pd\n",
    "\n",
    "plt.rc('font', family='serif', serif='Times')\n",
    "plt.rc('text', usetex=True)\n",
    "plt.rc('xtick', labelsize=13)\n",
    "plt.rc('ytick', labelsize=13)\n",
    "plt.rc('axes', labelsize=13)\n",
    "plt.rc('axes', linewidth=0.5)\n",
    "\n",
    "mpl.rcParams['patch.linewidth']=0.5\n",
    "\n",
    "width = 3.27\n",
    "height = width / 1.29\n",
    "\n",
    "\n",
    "fig, ax = plt.subplots()\n",
    "fig.subplots_adjust(left=.21, bottom=.2, right=.89, top=.93)\n",
    "fig.set_size_inches(width, height)\n",
    "\n",
    "p_opt_exact = 0.0827426098038465\n",
    "x_5 = loaded_5['obs_mean'][0]\n",
    "y_5 = loaded_5['max_mean'][0]\n",
    "z_5 = loaded_5['L1_mean'][0]\n",
    "x_6 = loaded_6['obs_mean'][0]\n",
    "y_6 = loaded_6['max_mean'][0]\n",
    "z_6 = loaded_6['L1_mean'][0]\n",
    "\n",
    "max_x_5, max_y_5 = zip(*sorted(zip(x_5,y_5)))\n",
    "L1_x_5, L1_z_5 = zip(*sorted(zip(x_5,z_5)))\n",
    "max_x_6, max_y_6 = zip(*sorted(zip(x_6,y_6)))\n",
    "L1_x_6, L1_z_6 = zip(*sorted(zip(x_6,z_6)))\n",
    "\n",
    "plt.plot(max_x_6, max_y_6, color='firebrick', linewidth=1, marker = 'o', markersize = 3)\n",
    "plt.plot(max_x_5, max_y_5, color='darkgray', linewidth=1, marker = 's', markersize = 3)\n",
    "\n",
    "plt.axvline(x=p_opt_exact, color='r', linestyle=':', linewidth=1)\n",
    "plt.legend(['Ours', 'Ahn\\'s', r'$p^*_{\\gamma}$'], fontsize=11, loc='center right', bbox_to_anchor=(1.02, 0.79))\n",
    "plt.xlabel(r'$p$')\n",
    "plt.ylabel(r'$||\\hat{R}-R||_{\\max}$')\n",
    "plt.savefig('Figure_2_b.eps', format='eps', dpi=1000)\n",
    "plt.show()\n"
   ]
  },
  {
   "cell_type": "code",
   "execution_count": null,
   "metadata": {},
   "outputs": [],
   "source": []
  }
 ],
 "metadata": {
  "kernelspec": {
   "display_name": "Python 3",
   "language": "python",
   "name": "python3"
  },
  "language_info": {
   "codemirror_mode": {
    "name": "ipython",
    "version": 3
   },
   "file_extension": ".py",
   "mimetype": "text/x-python",
   "name": "python",
   "nbconvert_exporter": "python",
   "pygments_lexer": "ipython3",
   "version": "3.7.4"
  }
 },
 "nbformat": 4,
 "nbformat_minor": 2
}
