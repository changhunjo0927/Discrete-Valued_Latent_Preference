{
 "cells": [
  {
   "cell_type": "code",
   "execution_count": null,
   "metadata": {
    "scrolled": true
   },
   "outputs": [],
   "source": [
    "import scipy.io as io\n",
    "import seaborn as sns\n",
    "\n",
    "loaded_3 = io.loadmat('data_1_prev') # the result from the previous algorithm\n",
    "loaded_4 = io.loadmat('data_1_new') # the result from the new algorithm\n",
    "\n",
    "#print(loaded['obs'])\n",
    "#print(loaded['max'])\n",
    "#print(loaded['L1'])\n",
    "#print(loaded['obs_mean'])\n",
    "#print(loaded['max_mean'])\n",
    "#print(loaded['L1_mean'])\n",
    "\n",
    "import matplotlib.pylab as plt\n",
    "import matplotlib as mpl\n",
    "import pandas as pd\n",
    "\n",
    "plt.rc('font', family='serif', serif='Times')\n",
    "plt.rc('text', usetex=True)\n",
    "plt.rc('xtick', labelsize=8)\n",
    "plt.rc('ytick', labelsize=8)\n",
    "plt.rc('axes', labelsize=8)\n",
    "plt.rc('axes', linewidth=0.5)\n",
    "\n",
    "mpl.rcParams['patch.linewidth']=0.7\n",
    "\n",
    "width = 3.27\n",
    "height = width / 1.618\n",
    "\n",
    "\n",
    "fig, ax = plt.subplots()\n",
    "fig.subplots_adjust(left=.16, bottom=.18, right=.99, top=.97)\n",
    "fig.set_size_inches(width, height)\n",
    "\n",
    "p_opt_close = 0.13040648619164938\n",
    "x_3 = loaded_3['obs_mean'][0]\n",
    "y_3 = loaded_3['max_mean'][0]\n",
    "z_3 = loaded_3['L1_mean'][0]\n",
    "x_4 = loaded_4['obs_mean'][0]\n",
    "y_4 = loaded_4['max_mean'][0]\n",
    "z_4 = loaded_4['L1_mean'][0]\n",
    "\n",
    "max_x_3, max_y_3 = zip(*sorted(zip(x_3,y_3)))\n",
    "L1_x_3, L1_z_3 = zip(*sorted(zip(x_3,z_3)))\n",
    "max_x_4, max_y_4 = zip(*sorted(zip(x_4,y_4)))\n",
    "L1_x_4, L1_z_4 = zip(*sorted(zip(x_4,z_4)))\n",
    "\n",
    "plt.plot(max_x_3, max_y_3, color='darkgray', linewidth=0.6, marker = 's', markersize = 2)\n",
    "plt.plot(max_x_4, max_y_4, color='firebrick', linewidth=0.6, marker = 'o', markersize = 2)\n",
    "plt.axvline(x=p_opt_close, color='r', linestyle=':', linewidth=0.8)\n",
    "plt.legend(['[Ahn et al.]','ours', r'$p^*_{\\gamma}$'], fontsize=8, loc='upper right')\n",
    "plt.xlabel(r'$p$')\n",
    "plt.ylabel(r'$||\\hat{R}-R||_{\\max}$')\n",
    "plt.savefig('Figure_1.eps', format='eps', dpi=1000)\n",
    "plt.show()\n",
    "\n",
    "\n"
   ]
  }
 ],
 "metadata": {
  "kernelspec": {
   "display_name": "Python 3",
   "language": "python",
   "name": "python3"
  },
  "language_info": {
   "codemirror_mode": {
    "name": "ipython",
    "version": 3
   },
   "file_extension": ".py",
   "mimetype": "text/x-python",
   "name": "python",
   "nbconvert_exporter": "python",
   "pygments_lexer": "ipython3",
   "version": "3.7.4"
  }
 },
 "nbformat": 4,
 "nbformat_minor": 2
}
